{
 "cells": [
  {
   "cell_type": "code",
   "execution_count": null,
   "id": "fc093a8b",
   "metadata": {},
   "outputs": [],
   "source": [
    "import os\n",
    "from PIL import Image\n",
    "import pandas as pd\n",
    "\n",
    "# 1.작업경로 지정 -> ./images/\n",
    "# 2. ./images의 파일목록을 읽기\n",
    "# 3. 파일이름 3자만 추출 -> 강아지, 고양이\n",
    "# 4. 추출한 파일이름의 중복 제거\n",
    "# 5. 추출한 파일이름으로 ./images/아래에 폴더 만들기"
   ]
  },
  {
   "cell_type": "code",
   "execution_count": 20,
   "id": "982c6be2",
   "metadata": {},
   "outputs": [],
   "source": [
    "from PIL import Image\n",
    "import os\n",
    "import pandas as pd\n",
    "\n",
    "path='./images/'\n",
    "\n",
    "files=os.listdir(path)"
   ]
  },
  {
   "cell_type": "code",
   "execution_count": 21,
   "id": "0b735632",
   "metadata": {},
   "outputs": [],
   "source": [
    "from PIL import Image\n",
    "import os\n",
    "import pandas as pd\n",
    "\n",
    "path='./images/'\n",
    "\n",
    "files=os.listdir(path)\n",
    "temp=[i[:3] for i in files]\n",
    "\n",
    "folder_names=list(set(temp))\n",
    "for folder in folder_names:\n",
    "    if os.path.exists(path+folder)==False:\n",
    "        os.mkdir(path+folder)"
   ]
  },
  {
   "cell_type": "code",
   "execution_count": 41,
   "id": "1734dd01",
   "metadata": {},
   "outputs": [
    {
     "ename": "PermissionError",
     "evalue": "[Errno 13] Permission denied: './images/강아지'",
     "output_type": "error",
     "traceback": [
      "\u001b[1;31m---------------------------------------------------------------------------\u001b[0m",
      "\u001b[1;31mPermissionError\u001b[0m                           Traceback (most recent call last)",
      "Input \u001b[1;32mIn [41]\u001b[0m, in \u001b[0;36m<cell line: 19>\u001b[1;34m()\u001b[0m\n\u001b[0;32m     18\u001b[0m \u001b[38;5;28;01mfrom\u001b[39;00m \u001b[38;5;21;01mPIL\u001b[39;00m \u001b[38;5;28;01mimport\u001b[39;00m ImageFilter\n\u001b[0;32m     19\u001b[0m \u001b[38;5;28;01mfor\u001b[39;00m file \u001b[38;5;129;01min\u001b[39;00m files:\n\u001b[0;32m     20\u001b[0m     \u001b[38;5;66;03m#이미지 오픈\u001b[39;00m\n\u001b[1;32m---> 21\u001b[0m     img \u001b[38;5;241m=\u001b[39m \u001b[43mImage\u001b[49m\u001b[38;5;241;43m.\u001b[39;49m\u001b[43mopen\u001b[49m\u001b[43m(\u001b[49m\u001b[43mpath\u001b[49m\u001b[38;5;241;43m+\u001b[39;49m\u001b[43mfile\u001b[49m\u001b[43m)\u001b[49m\n\u001b[0;32m     22\u001b[0m     \u001b[38;5;66;03m#필터적용\u001b[39;00m\n\u001b[0;32m     23\u001b[0m     blur_img \u001b[38;5;241m=\u001b[39m img\u001b[38;5;241m.\u001b[39mfilter(ImageFilter\u001b[38;5;241m.\u001b[39mFIND_EDGES)\n",
      "File \u001b[1;32m~\\miniconda3\\envs\\han\\lib\\site-packages\\PIL\\Image.py:3092\u001b[0m, in \u001b[0;36mopen\u001b[1;34m(fp, mode, formats)\u001b[0m\n\u001b[0;32m   3089\u001b[0m     filename \u001b[38;5;241m=\u001b[39m fp\n\u001b[0;32m   3091\u001b[0m \u001b[38;5;28;01mif\u001b[39;00m filename:\n\u001b[1;32m-> 3092\u001b[0m     fp \u001b[38;5;241m=\u001b[39m \u001b[43mbuiltins\u001b[49m\u001b[38;5;241;43m.\u001b[39;49m\u001b[43mopen\u001b[49m\u001b[43m(\u001b[49m\u001b[43mfilename\u001b[49m\u001b[43m,\u001b[49m\u001b[43m \u001b[49m\u001b[38;5;124;43m\"\u001b[39;49m\u001b[38;5;124;43mrb\u001b[39;49m\u001b[38;5;124;43m\"\u001b[39;49m\u001b[43m)\u001b[49m\n\u001b[0;32m   3093\u001b[0m     exclusive_fp \u001b[38;5;241m=\u001b[39m \u001b[38;5;28;01mTrue\u001b[39;00m\n\u001b[0;32m   3095\u001b[0m \u001b[38;5;28;01mtry\u001b[39;00m:\n",
      "\u001b[1;31mPermissionError\u001b[0m: [Errno 13] Permission denied: './images/강아지'"
     ]
    }
   ],
   "source": [
    "import os\n",
    "from PIL import Image\n",
    "import pandas as pd\n",
    "\n",
    "path='./images/'\n",
    "files=os.listdir(path)\n",
    "\n",
    "\n",
    "temp=[i[:3] for i in files]\n",
    "folder_names=list(set(temp))\n",
    "for i in folder_names:\n",
    "    if os.path.exists(path+i)==False:\n",
    "        os.mkdir(path+i)\n",
    "\n",
    "\n",
    "# 이미지 파일 오픈하고 -> 엣지 필터 적용하고 -> 각 폴더에 저장하기\n",
    "\n",
    "from PIL import ImageFilter\n",
    "for file in files:\n",
    "    #이미지 오픈\n",
    "    img = Image.open(path+file)\n",
    "    #필터적용\n",
    "    blur_img = img.filter(ImageFilter.FIND_EDGES)\n",
    "    #blur_img.show()\n",
    "    \n",
    "#이미지 저장하기    \n",
    "    for folder in folder_names:\n",
    "        if folder in file:\n",
    "            blur_img.save(path+folder+'/'+file)\n"
   ]
  },
  {
   "cell_type": "code",
   "execution_count": 8,
   "id": "65d70193",
   "metadata": {},
   "outputs": [
    {
     "data": {
      "text/plain": [
       "'고양이'"
      ]
     },
     "execution_count": 8,
     "metadata": {},
     "output_type": "execute_result"
    }
   ],
   "source": [
    "from PIL import Image\n",
    "import os\n",
    "import pandas as pd\n",
    "from glob import glob\n",
    "path='./images/'\n",
    "\n",
    "\n",
    "files=os.listdir(path)\n",
    "\n",
    "#파일이 있으면 생성하지 않음\n",
    "if 'dog' not in files:\n",
    "    os.mkdir(path+'dog')\n",
    "if 'cat' not in files:\n",
    "    os.mkdir(path+'cat')\n",
    "\n",
    "#파일을 갖고 옴\n",
    "# files= glob(path + '*.jpg')\n",
    "# files\n",
    "\n",
    "def fileList(path_berfore : str)->list:\n",
    "    file_list = os.listdir(path_before)\n",
    "    category = []\n",
    "    for file in file_list:\n",
    "        temp_list = file.split(\"강아지\", \"고양이\")\n",
    "        category.append\n",
    "\n",
    "\n",
    "# res=[]\n",
    "# for file in files:\n",
    "    \n",
    "#     print(file)\n",
    "    \n",
    "#     img = Image.open(file)\n",
    "#     resize_img =img.resize((800, 800))\n",
    "#     resize_img.save(path + \"resize/\" + file.split('\\\\')[1])\n"
   ]
  },
  {
   "cell_type": "code",
   "execution_count": 39,
   "id": "ee2e818b",
   "metadata": {},
   "outputs": [
    {
     "name": "stdout",
     "output_type": "stream",
     "text": [
      "Collecting qrcode\n",
      "  Downloading qrcode-7.3.1.tar.gz (43 kB)\n",
      "     ---------------------------------------- 43.5/43.5 kB ? eta 0:00:00\n",
      "  Preparing metadata (setup.py): started\n",
      "  Preparing metadata (setup.py): finished with status 'done'\n",
      "Requirement already satisfied: colorama in c:\\users\\user\\miniconda3\\envs\\han\\lib\\site-packages (from qrcode) (0.4.5)\n",
      "Building wheels for collected packages: qrcode\n",
      "  Building wheel for qrcode (setup.py): started\n",
      "  Building wheel for qrcode (setup.py): finished with status 'done'\n",
      "  Created wheel for qrcode: filename=qrcode-7.3.1-py3-none-any.whl size=40401 sha256=44684972f80958487ca408ae1e158678596497279597aba8333605850bda7816\n",
      "  Stored in directory: c:\\users\\user\\appdata\\local\\pip\\cache\\wheels\\23\\19\\46\\913659e1fa8df0e197598601997735938c703cac15d98a6e6d\n",
      "Successfully built qrcode\n",
      "Installing collected packages: qrcode\n",
      "Successfully installed qrcode-7.3.1\n"
     ]
    }
   ],
   "source": [
    "!pip install qrcode"
   ]
  },
  {
   "cell_type": "code",
   "execution_count": null,
   "id": "736bc3ef",
   "metadata": {},
   "outputs": [],
   "source": []
  }
 ],
 "metadata": {
  "kernelspec": {
   "display_name": "Python 3 (ipykernel)",
   "language": "python",
   "name": "python3"
  },
  "language_info": {
   "codemirror_mode": {
    "name": "ipython",
    "version": 3
   },
   "file_extension": ".py",
   "mimetype": "text/x-python",
   "name": "python",
   "nbconvert_exporter": "python",
   "pygments_lexer": "ipython3",
   "version": "3.10.4"
  }
 },
 "nbformat": 4,
 "nbformat_minor": 5
}
