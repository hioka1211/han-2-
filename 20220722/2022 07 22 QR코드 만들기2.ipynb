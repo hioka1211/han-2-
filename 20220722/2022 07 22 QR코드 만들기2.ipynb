{
 "cells": [
  {
   "cell_type": "code",
   "execution_count": 3,
   "id": "c889bc9e",
   "metadata": {},
   "outputs": [
    {
     "name": "stdout",
     "output_type": "stream",
     "text": [
      "['www.naver.com', 'www.daum.com', 'google.com']\n"
     ]
    }
   ],
   "source": [
    "import qrcode \n",
    "#리스트 위한 간소화 하기\n",
    "naver = \"www.naver.com\"\n",
    "daum = \"www.daum.com\"\n",
    "google = \"google.com\"\n",
    "\n",
    "#리스트 하기\n",
    "url_list = [naver, daum, google]\n",
    "\n",
    "#체크하기\n",
    "print(url_list)\n",
    "\n",
    "#for 이용해서 코드 만들기\n",
    "for url in url_list:\n",
    "    img = qrcode.make(url)\n",
    "    img.save(\"C:/Users/user/Desktop/study/2차/link.png\")\n"
   ]
  },
  {
   "cell_type": "code",
   "execution_count": null,
   "id": "505118fa",
   "metadata": {},
   "outputs": [],
   "source": []
  }
 ],
 "metadata": {
  "kernelspec": {
   "display_name": "Python 3 (ipykernel)",
   "language": "python",
   "name": "python3"
  },
  "language_info": {
   "codemirror_mode": {
    "name": "ipython",
    "version": 3
   },
   "file_extension": ".py",
   "mimetype": "text/x-python",
   "name": "python",
   "nbconvert_exporter": "python",
   "pygments_lexer": "ipython3",
   "version": "3.10.4"
  }
 },
 "nbformat": 4,
 "nbformat_minor": 5
}
