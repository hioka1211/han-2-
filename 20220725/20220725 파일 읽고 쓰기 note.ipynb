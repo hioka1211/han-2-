{
 "cells": [
  {
   "cell_type": "code",
   "execution_count": 4,
   "id": "7edefd82",
   "metadata": {},
   "outputs": [],
   "source": [
    "f = open(\"새파일.txt\", 'w')\n",
    "#f.은 print와 비슷한 역할\n",
    "f.write('hello\\n')\n",
    "f.write('python')\n",
    "f.close()"
   ]
  },
  {
   "cell_type": "code",
   "execution_count": 11,
   "id": "600fe1e7",
   "metadata": {},
   "outputs": [],
   "source": [
    "f = open('hello.txt', 'w')\n",
    "#앞에 숫자를 붙이기 위한 range()\n",
    "for i in range(1,11):\n",
    "    #f 포맷으로 생성\n",
    "    f.write(f'{i}. hello\\n')\n",
    "f.close()"
   ]
  },
  {
   "cell_type": "code",
   "execution_count": 15,
   "id": "b10cf0ea",
   "metadata": {},
   "outputs": [
    {
     "name": "stdout",
     "output_type": "stream",
     "text": [
      "1. hello\n",
      "\n",
      "2. hello\n",
      "\n",
      "3. hello\n",
      "\n"
     ]
    }
   ],
   "source": [
    "f = open('hello.txt', 'r')\n",
    "line=f.readline()\n",
    "print(line)\n",
    "line=f.readline()\n",
    "print(line)\n",
    "line=f.readline()\n",
    "print(line)\n",
    "\n",
    "#크롤링 할 때 써먹을 수 있음\n",
    "if not line: break\n",
    "\n",
    "f.close()"
   ]
  },
  {
   "cell_type": "code",
   "execution_count": 18,
   "id": "310ecd14",
   "metadata": {},
   "outputs": [
    {
     "name": "stdout",
     "output_type": "stream",
     "text": [
      "1\n",
      "2\n",
      "3\n",
      "4\n",
      "5\n"
     ]
    },
    {
     "data": {
      "text/plain": [
       "1"
      ]
     },
     "execution_count": 18,
     "metadata": {},
     "output_type": "execute_result"
    }
   ],
   "source": [
    "a=[1,2,3,4,5]\n",
    "#iterator의 자료 꺼내는 법은 for문\n",
    "for i in a:\n",
    "    print(i)\n",
    "#이렇게 하면 next를 사용해, 꺼내올 수 있음 \n",
    "a=iter(a)\n",
    "next(a)"
   ]
  },
  {
   "cell_type": "code",
   "execution_count": 20,
   "id": "928e6a5d",
   "metadata": {},
   "outputs": [
    {
     "name": "stdout",
     "output_type": "stream",
     "text": [
      "<list_iterator object at 0x0000026BD2AB4970>\n",
      "<list_iterator object at 0x0000026BD2AB4970>\n",
      "<list_iterator object at 0x0000026BD2AB4970>\n"
     ]
    }
   ],
   "source": [
    "for i in a:\n",
    "    print(a)"
   ]
  },
  {
   "cell_type": "code",
   "execution_count": 24,
   "id": "37812cdb",
   "metadata": {},
   "outputs": [
    {
     "name": "stdout",
     "output_type": "stream",
     "text": [
      "1. hello\n",
      "2. hello\n",
      "3. hello\n",
      "4. hello\n",
      "5. hello\n",
      "6. hello\n",
      "7. hello\n",
      "8. hello\n",
      "9. hello\n",
      "10. hello\n"
     ]
    }
   ],
   "source": [
    "f = open('hello.txt', 'r')\n",
    "#line이 몇개 있는지 모르니까 while문\n",
    "while True:\n",
    "    line=f.readline()\n",
    "#line을 읽고 아무것도 없으면 빠져나가는\n",
    "    if not line:\n",
    "        break\n",
    "#strip을 하면 상하 간격이 붙음\n",
    "    print(line.strip('\\n'))\n",
    "f.close()"
   ]
  },
  {
   "cell_type": "code",
   "execution_count": 28,
   "id": "6265258a",
   "metadata": {},
   "outputs": [
    {
     "name": "stdout",
     "output_type": "stream",
     "text": [
      "1. hello\n",
      "2. hello\n",
      "3. hello\n",
      "4. hello\n",
      "5. hello\n",
      "6. hello\n",
      "7. hello\n",
      "8. hello\n",
      "9. hello\n",
      "10. hello\n"
     ]
    }
   ],
   "source": [
    "f = open('hello.txt', 'r')\n",
    "lines=f.readlines()\n",
    "#print(lines)\n",
    "for line in lines:\n",
    "    print(line.strip('\\n'))\n",
    "\n",
    "f.close()"
   ]
  },
  {
   "cell_type": "code",
   "execution_count": 30,
   "id": "07658dc5",
   "metadata": {},
   "outputs": [
    {
     "name": "stdout",
     "output_type": "stream",
     "text": [
      "1. hello\n",
      "2. hello\n",
      "3. hello\n",
      "4. hello\n",
      "5. hello\n",
      "6. hello\n",
      "7. hello\n",
      "8. hello\n",
      "9. hello\n",
      "10. hello\n",
      "\n"
     ]
    }
   ],
   "source": [
    "f = open('hello.txt', 'r')\n",
    "data=f.read()\n",
    "print(data)\n",
    "\n",
    "f.close()"
   ]
  },
  {
   "cell_type": "code",
   "execution_count": 31,
   "id": "26a0274b",
   "metadata": {},
   "outputs": [
    {
     "data": {
      "text/plain": [
       "str"
      ]
     },
     "execution_count": 31,
     "metadata": {},
     "output_type": "execute_result"
    }
   ],
   "source": [
    "type(data)"
   ]
  },
  {
   "cell_type": "code",
   "execution_count": 32,
   "id": "c71873b3",
   "metadata": {},
   "outputs": [
    {
     "data": {
      "text/plain": [
       "'1. hello\\n2. hello\\n3. hello\\n4. hello\\n5. hello\\n6. hello\\n7. hello\\n8. hello\\n9. hello\\n10. hello\\n'"
      ]
     },
     "execution_count": 32,
     "metadata": {},
     "output_type": "execute_result"
    }
   ],
   "source": [
    "data"
   ]
  },
  {
   "cell_type": "code",
   "execution_count": 36,
   "id": "b6242487",
   "metadata": {},
   "outputs": [],
   "source": [
    "#텍스트 안에 있는 문장 안에 문장 추가하기\n",
    "f = open('hello.txt', 'a')\n",
    "for i in range(11,21):\n",
    "     f.write(f'{i}. hello\\n')\n",
    "f.close()"
   ]
  },
  {
   "cell_type": "code",
   "execution_count": 39,
   "id": "38fb91f3",
   "metadata": {},
   "outputs": [],
   "source": [
    "#앞의 걸 f로 이름 짓겠다\n",
    "with open('naver.txt','w') as f:\n",
    "    for i in range(10):\n",
    "        f.write('www.naver.com\\n')"
   ]
  },
  {
   "cell_type": "code",
   "execution_count": null,
   "id": "787a1558",
   "metadata": {},
   "outputs": [],
   "source": []
  }
 ],
 "metadata": {
  "kernelspec": {
   "display_name": "Python 3 (ipykernel)",
   "language": "python",
   "name": "python3"
  },
  "language_info": {
   "codemirror_mode": {
    "name": "ipython",
    "version": 3
   },
   "file_extension": ".py",
   "mimetype": "text/x-python",
   "name": "python",
   "nbconvert_exporter": "python",
   "pygments_lexer": "ipython3",
   "version": "3.10.4"
  }
 },
 "nbformat": 4,
 "nbformat_minor": 5
}
