{
 "cells": [
  {
   "cell_type": "code",
   "execution_count": null,
   "id": "6bb080e8",
   "metadata": {},
   "outputs": [],
   "source": [
    "'''\n",
    "import qrcode\n",
    "img_url = qrcode.make(\"https://www.google.com/maps\")\n",
    "img_url.save(\"C:/python/googlemap.png\")\n",
    "print(img_url.size)\n",
    "'''"
   ]
  },
  {
   "cell_type": "code",
   "execution_count": 17,
   "id": "b639bfb1",
   "metadata": {},
   "outputs": [],
   "source": [
    "#addr 주소를 '웹사이트.txt' 파일 내용으로 기록하기\n",
    "addr=['www.naver.com','www.daum.net','www.google.com']\n",
    "f = open('website.txt', 'w')\n",
    "for i in addr:\n",
    "    f.write(f'{i}\\n')\n",
    "    \n",
    "\n",
    "f.close()\n"
   ]
  },
  {
   "cell_type": "code",
   "execution_count": 20,
   "id": "140461cc",
   "metadata": {},
   "outputs": [],
   "source": [
    "#'웹사이트. txt' 파일을 읽어서 각각의 qr코드 만들고 저장하기\n",
    "import qrcode\n",
    "f = open('website.txt', 'r')\n",
    "lines=f.readlines()\n",
    "#print(lines)\n",
    "\n",
    "#n=0 변수 만들어주고\n",
    "\n",
    "for n,line in enumerate(lines):\n",
    "   \n",
    "    img_url = qrcode.make(line.strip('\\n'))\n",
    "    img_url.save(f'./qr/qrcode{n+1}.jpg')\n",
    "\n",
    "#{n+1} 변수 n에 1씩 더해주기\n",
    "#지금 적힌 코드는 변수를 지워주고 line 앞에 index 적어주고 enumerate로 처리\n",
    "    \n",
    "    "
   ]
  },
  {
   "cell_type": "code",
   "execution_count": null,
   "id": "4859ea1f",
   "metadata": {},
   "outputs": [],
   "source": []
  }
 ],
 "metadata": {
  "kernelspec": {
   "display_name": "Python 3 (ipykernel)",
   "language": "python",
   "name": "python3"
  },
  "language_info": {
   "codemirror_mode": {
    "name": "ipython",
    "version": 3
   },
   "file_extension": ".py",
   "mimetype": "text/x-python",
   "name": "python",
   "nbconvert_exporter": "python",
   "pygments_lexer": "ipython3",
   "version": "3.10.4"
  }
 },
 "nbformat": 4,
 "nbformat_minor": 5
}
