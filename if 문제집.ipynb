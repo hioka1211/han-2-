{
 "cells": [
  {
   "cell_type": "code",
   "execution_count": 12,
   "id": "e638a6eb",
   "metadata": {},
   "outputs": [
    {
     "name": "stdout",
     "output_type": "stream",
     "text": [
      "안녕하세요\n",
      "안녕하세요안녕하세요\n"
     ]
    }
   ],
   "source": [
    "user=input()\n",
    "print('안녕하세요'*2)"
   ]
  },
  {
   "cell_type": "code",
   "execution_count": 11,
   "id": "07c4b457",
   "metadata": {},
   "outputs": [
    {
     "name": "stdout",
     "output_type": "stream",
     "text": [
      "30\n",
      "40\n"
     ]
    }
   ],
   "source": [
    "user=int(input(\"\"))\n",
    "print(user+10)"
   ]
  },
  {
   "cell_type": "code",
   "execution_count": 15,
   "id": "ee69c9e9",
   "metadata": {},
   "outputs": [
    {
     "name": "stdout",
     "output_type": "stream",
     "text": [
      "30\n",
      "짝수\n"
     ]
    }
   ],
   "source": [
    "user=input(\"\")\n",
    "if int(user)%2==0:\n",
    "    print(\"짝수\")\n",
    "else:\n",
    "    print(\"홀수\")"
   ]
  },
  {
   "cell_type": "code",
   "execution_count": 24,
   "id": "8eea3a64",
   "metadata": {},
   "outputs": [
    {
     "name": "stdout",
     "output_type": "stream",
     "text": [
      "220\n",
      "240\n"
     ]
    }
   ],
   "source": [
    "user=input(\"\")\n",
    "num=int(user)+20\n",
    "if num>=255:\n",
    "    print(255)\n",
    "else:\n",
    "    print(num)"
   ]
  },
  {
   "cell_type": "code",
   "execution_count": 30,
   "id": "6a6a78a8",
   "metadata": {},
   "outputs": [
    {
     "name": "stdout",
     "output_type": "stream",
     "text": [
      "200\n",
      "180\n"
     ]
    }
   ],
   "source": [
    "user=input(\"\")\n",
    "num=int(user)-20\n",
    "if num>=255:\n",
    "    num=255\n",
    "elif num<0:\n",
    "    num=0\n",
    "print(num)"
   ]
  },
  {
   "cell_type": "code",
   "execution_count": 36,
   "id": "25288d9c",
   "metadata": {},
   "outputs": [
    {
     "name": "stdout",
     "output_type": "stream",
     "text": [
      "현재시간:01:30\n",
      "정각이 아닙니다\n"
     ]
    }
   ],
   "source": [
    "time=input(\"현재시간:\")\n",
    "\n",
    "if time[-2:]=='00':\n",
    "    print(\"정각\")\n",
    "else:\n",
    "    print(\"정각이 아닙니다\")"
   ]
  },
  {
   "cell_type": "code",
   "execution_count": 41,
   "id": "fb31d956",
   "metadata": {},
   "outputs": [
    {
     "name": "stdout",
     "output_type": "stream",
     "text": [
      "좋아하는 과일은?ㅍ도\n",
      "오답입니다\n"
     ]
    }
   ],
   "source": [
    "fruit = [\"사과\", \"포도\", \"홍시\"]\n",
    "user=input(\"좋아하는 과일은?\")\n",
    "if user in fruit:\n",
    "    pritn(\"정답입니다\")\n",
    "else:\n",
    "    print(\"오답입니다\")"
   ]
  },
  {
   "cell_type": "code",
   "execution_count": 43,
   "id": "11a043ca",
   "metadata": {},
   "outputs": [
    {
     "name": "stdout",
     "output_type": "stream",
     "text": [
      "종목명 kt\n",
      "투자 경고 종목이 아닙니다\n"
     ]
    }
   ],
   "source": [
    "warn_investment_list = [\"Microsoft\", \"Google\", \"Naver\", \"Kakao\", \"SAMSUNG\", \"LG\"]\n",
    "user=input(\"종목명 \")\n",
    "if user in warn_investment_list:\n",
    "    print(\"투자 경고 종목입니다\")\n",
    "else:\n",
    "    print(\"투자 경고 종목이 아닙니다\")"
   ]
  },
  {
   "cell_type": "code",
   "execution_count": 44,
   "id": "9086b0e2",
   "metadata": {},
   "outputs": [
    {
     "name": "stdout",
     "output_type": "stream",
     "text": [
      "제가 좋아하는 계절은봄\n",
      "정답입니다\n"
     ]
    }
   ],
   "source": [
    "fruit = {\"봄\" : \"딸기\", \"여름\" : \"토마토\", \"가을\" : \"사과\"}\n",
    "user=input(\"제가 좋아하는 계절은 \")\n",
    "if user in fruit:\n",
    "    print(\"정답입니다\")\n",
    "else:\n",
    "    print(\"오답입니다\")"
   ]
  },
  {
   "cell_type": "code",
   "execution_count": 50,
   "id": "7e73e99c",
   "metadata": {},
   "outputs": [
    {
     "name": "stdout",
     "output_type": "stream",
     "text": [
      "좋아하는 과일은? 사과\n",
      "정답입니다\n"
     ]
    }
   ],
   "source": [
    "fruit = {\"봄\" : \"딸기\", \"여름\" : \"토마토\", \"가을\" : \"사과\"}\n",
    "user=input(\"좋아하는 과일은? \")\n",
    "if user in fruit.values():\n",
    "    print(\"정답입니다\")\n",
    "else:\n",
    "    print(\"오답입니다\")"
   ]
  },
  {
   "cell_type": "code",
   "execution_count": 48,
   "id": "81d1d262",
   "metadata": {},
   "outputs": [
    {
     "name": "stdout",
     "output_type": "stream",
     "text": [
      "{'봄': '딸기', '여름': '토마토', '가을': '사과'}\n",
      "dict_keys(['봄', '여름', '가을'])\n",
      "dict_values(['딸기', '토마토', '사과'])\n"
     ]
    }
   ],
   "source": [
    "print(fruit)\n",
    "print(fruit.keys())\n",
    "print(fruit.values())"
   ]
  },
  {
   "cell_type": "code",
   "execution_count": 55,
   "id": "e013e388",
   "metadata": {},
   "outputs": [
    {
     "name": "stdout",
     "output_type": "stream",
     "text": [
      "abc\n",
      "ABC\n"
     ]
    }
   ],
   "source": [
    "user=input(\"\")\n",
    "if user.islower():\n",
    "    print(user.upper())\n",
    "else:\n",
    "    print(user.lower())"
   ]
  },
  {
   "cell_type": "code",
   "execution_count": 60,
   "id": "bf8cb308",
   "metadata": {},
   "outputs": [
    {
     "name": "stdout",
     "output_type": "stream",
     "text": [
      "score: 84\n",
      "grade is A\n"
     ]
    }
   ],
   "source": [
    "score=input(\"score: \")\n",
    "score=int(score)\n",
    "if score>=80:\n",
    "    print(\"grade is A\")\n",
    "elif score>=60:\n",
    "    print(\"grade is B\")\n",
    "elif score>=40:\n",
    "    print(\"grade is C\")\n",
    "elif score>=20:\n",
    "    print(\"grade is D\")\n",
    "elif score>=0:\n",
    "    print(\"grade is E\")\n",
    "else:\n",
    "    print(\"grade is E\")\n"
   ]
  },
  {
   "cell_type": "code",
   "execution_count": 65,
   "id": "b62e5360",
   "metadata": {},
   "outputs": [
    {
     "ename": "SyntaxError",
     "evalue": "invalid syntax (1418922628.py, line 6)",
     "output_type": "error",
     "traceback": [
      "\u001b[1;36m  Input \u001b[1;32mIn [65]\u001b[1;36m\u001b[0m\n\u001b[1;33m    환율{'달러'}\u001b[0m\n\u001b[1;37m      ^\u001b[0m\n\u001b[1;31mSyntaxError\u001b[0m\u001b[1;31m:\u001b[0m invalid syntax\n"
     ]
    }
   ],
   "source": [
    "환율={\"달러\": 1167,\n",
    "    \"엔\": 1.096,\n",
    "    \"유로\": 1268,\n",
    "    \"위안\": 171}\n",
    "#user=input(\"입력: \")\n",
    "환율{'달러'}"
   ]
  },
  {
   "cell_type": "code",
   "execution_count": 80,
   "id": "35962ded",
   "metadata": {},
   "outputs": [
    {
     "name": "stdout",
     "output_type": "stream",
     "text": [
      "입력: 100 달러\n",
      "116700.0\n"
     ]
    }
   ],
   "source": [
    "환율={\n",
    "    \"달러\": 1167,\n",
    "    '엔': 1.065,\n",
    "    '유로': 1268,\n",
    "    '위안': 171\n",
    "}\n",
    "a=input('입력: ')\n",
    "x,y=a.split()\n",
    "print(float(int(x)) * 환율[y])"
   ]
  },
  {
   "cell_type": "code",
   "execution_count": 75,
   "id": "193e3b4b",
   "metadata": {},
   "outputs": [
    {
     "name": "stdout",
     "output_type": "stream",
     "text": [
      "126800\n"
     ]
    }
   ],
   "source": [
    "a='100 유로'\n",
    "x,y=a.split()\n",
    "# x=a.split()[0]\n",
    "# y=a.split()[1]\n",
    "print(int(x) * 환율[y])"
   ]
  },
  {
   "cell_type": "code",
   "execution_count": 71,
   "id": "baef4eec",
   "metadata": {},
   "outputs": [
    {
     "data": {
      "text/plain": [
       "1167"
      ]
     },
     "execution_count": 71,
     "metadata": {},
     "output_type": "execute_result"
    }
   ],
   "source": [
    "환율[y]"
   ]
  },
  {
   "cell_type": "code",
   "execution_count": null,
   "id": "f9698ea9",
   "metadata": {},
   "outputs": [],
   "source": [
    "a,b=[2.3]"
   ]
  },
  {
   "cell_type": "code",
   "execution_count": 83,
   "id": "1f81bb14",
   "metadata": {},
   "outputs": [
    {
     "name": "stdout",
     "output_type": "stream",
     "text": [
      "input number1: 10\n",
      "input number2: 100\n",
      "input number3: 1000\n",
      "1000\n"
     ]
    }
   ],
   "source": [
    "num1 = input(\"input number1: \")\n",
    "num2 = input(\"input number2: \")\n",
    "num3 = input(\"input number3: \")\n",
    "print(max([num1,num2,num3]))"
   ]
  },
  {
   "cell_type": "code",
   "execution_count": 86,
   "id": "7260fc5d",
   "metadata": {},
   "outputs": [
    {
     "name": "stdout",
     "output_type": "stream",
     "text": [
      "skt\n"
     ]
    }
   ],
   "source": [
    "phone={\n",
    "    '011':'skt',\n",
    "    '016':'kt',\n",
    "    '019':'lgu',\n",
    "    '010':'알수없음'\n",
    "}\n",
    "a='011-345-1923'\n",
    "print(phone[a[:3]])"
   ]
  },
  {
   "cell_type": "code",
   "execution_count": 91,
   "id": "abdb4ca6",
   "metadata": {},
   "outputs": [
    {
     "name": "stdout",
     "output_type": "stream",
     "text": [
      "서울 아닙니다\n"
     ]
    }
   ],
   "source": [
    "a='821010-1635210'\n",
    "a=a.replace('-','')\n",
    "b=a[7:9]\n",
    "if 0<=int(b)<=8:\n",
    "    print('서울입니다')\n",
    "else:\n",
    "    print('서울 아닙니다')"
   ]
  },
  {
   "cell_type": "code",
   "execution_count": 92,
   "id": "a1323d2c",
   "metadata": {},
   "outputs": [
    {
     "ename": "ModuleNotFoundError",
     "evalue": "No module named 'requests'",
     "output_type": "error",
     "traceback": [
      "\u001b[1;31m---------------------------------------------------------------------------\u001b[0m",
      "\u001b[1;31mModuleNotFoundError\u001b[0m                       Traceback (most recent call last)",
      "Input \u001b[1;32mIn [92]\u001b[0m, in \u001b[0;36m<cell line: 1>\u001b[1;34m()\u001b[0m\n\u001b[1;32m----> 1\u001b[0m \u001b[38;5;28;01mimport\u001b[39;00m \u001b[38;5;21;01mrequests\u001b[39;00m\n\u001b[0;32m      2\u001b[0m btc \u001b[38;5;241m=\u001b[39m requests\u001b[38;5;241m.\u001b[39mget(\u001b[38;5;124m\"\u001b[39m\u001b[38;5;124mhttps://api.bithumb.com/public/ticker/\u001b[39m\u001b[38;5;124m\"\u001b[39m)\u001b[38;5;241m.\u001b[39mjson()[\u001b[38;5;124m'\u001b[39m\u001b[38;5;124mdata\u001b[39m\u001b[38;5;124m'\u001b[39m]\n",
      "\u001b[1;31mModuleNotFoundError\u001b[0m: No module named 'requests'"
     ]
    }
   ],
   "source": [
    "import requests\n",
    "btc = requests.get(\"https://api.bithumb.com/public/ticker/\").json()['data']"
   ]
  },
  {
   "cell_type": "code",
   "execution_count": null,
   "id": "5738d2ca",
   "metadata": {},
   "outputs": [],
   "source": []
  },
  {
   "cell_type": "code",
   "execution_count": null,
   "id": "25e4d991",
   "metadata": {},
   "outputs": [],
   "source": []
  }
 ],
 "metadata": {
  "kernelspec": {
   "display_name": "Python 3 (ipykernel)",
   "language": "python",
   "name": "python3"
  },
  "language_info": {
   "codemirror_mode": {
    "name": "ipython",
    "version": 3
   },
   "file_extension": ".py",
   "mimetype": "text/x-python",
   "name": "python",
   "nbconvert_exporter": "python",
   "pygments_lexer": "ipython3",
   "version": "3.10.4"
  }
 },
 "nbformat": 4,
 "nbformat_minor": 5
}
