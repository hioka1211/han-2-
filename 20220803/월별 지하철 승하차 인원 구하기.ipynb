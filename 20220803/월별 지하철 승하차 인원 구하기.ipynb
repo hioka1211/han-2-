{
 "cells": [
  {
   "cell_type": "code",
   "execution_count": 3,
   "id": "af01a8a9",
   "metadata": {},
   "outputs": [
    {
     "name": "stdout",
     "output_type": "stream",
     "text": [
      "---end----\n"
     ]
    }
   ],
   "source": [
    "import subway_p as sb\n",
    "import pandas as pd\n",
    "시작일='20210101'\n",
    "종료일='20210331'\n",
    "d_ranges=pd.date_range(시작일,종료일).astype('str')\n",
    "d_ranges=[i.replace('-','') for i in d_ranges]\n",
    "\n",
    "month=''\n",
    "res=[]\n",
    "for idx, date in enumerate(d_ranges):\n",
    "    m_tmp=date[4:6]\n",
    "\n",
    "    if idx==0:  # 첫번째  체크\n",
    "        month=m_tmp\n",
    "    if idx==len(d_ranges)-1: #마지막 체크\n",
    "        df_tmp=pd.concat(res,ignore_index=True)\n",
    "        df_tmp.to_csv(f'{month}.csv')\n",
    "        break\n",
    "    if month!=m_tmp: #월이 다르면\n",
    "        df_tmp=pd.concat(res, ignore_index=True)\n",
    "        df_tmp.to_csv(f'{month}.csv')\n",
    "        month=m_tmp\n",
    "        res=[]\n",
    "\n",
    "    df=sb.subway_p(date)\n",
    "    res.append(df)\n",
    "\n",
    "print('---end----')\n",
    "        "
   ]
  },
  {
   "cell_type": "code",
   "execution_count": null,
   "id": "d1d18227",
   "metadata": {},
   "outputs": [],
   "source": []
  }
 ],
 "metadata": {
  "kernelspec": {
   "display_name": "Python 3 (ipykernel)",
   "language": "python",
   "name": "python3"
  },
  "language_info": {
   "codemirror_mode": {
    "name": "ipython",
    "version": 3
   },
   "file_extension": ".py",
   "mimetype": "text/x-python",
   "name": "python",
   "nbconvert_exporter": "python",
   "pygments_lexer": "ipython3",
   "version": "3.10.4"
  }
 },
 "nbformat": 4,
 "nbformat_minor": 5
}
