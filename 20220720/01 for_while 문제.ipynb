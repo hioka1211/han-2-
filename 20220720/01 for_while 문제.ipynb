{
 "cells": [
  {
   "cell_type": "markdown",
   "id": "aerial-lying",
   "metadata": {},
   "source": [
    "## for 문"
   ]
  },
  {
   "cell_type": "code",
   "execution_count": 6,
   "id": "popular-nylon",
   "metadata": {},
   "outputs": [
    {
     "name": "stdout",
     "output_type": "stream",
     "text": [
      "안녕하세요\n",
      "안녕하세요\n",
      "안녕하세요\n"
     ]
    }
   ],
   "source": [
    "#for문2\n",
    "'''\n",
    "for i in range(숫자):\n",
    "'''\n",
    "\n"
   ]
  },
  {
   "cell_type": "code",
   "execution_count": 10,
   "id": "broad-brush",
   "metadata": {},
   "outputs": [
    {
     "name": "stdout",
     "output_type": "stream",
     "text": [
      "a\n",
      "b\n",
      "c\n"
     ]
    }
   ],
   "source": [
    "# for 문 1\n",
    "'''\n",
    "for i in 리스트변수:\n",
    "\n",
    "'''\n",
    "\n",
    "a=['a','b','c']\n"
   ]
  },
  {
   "cell_type": "code",
   "execution_count": 3,
   "id": "4ab635c5",
   "metadata": {},
   "outputs": [
    {
     "name": "stdout",
     "output_type": "stream",
     "text": [
      "[2, 4, 6]\n",
      "[8, 10, 12]\n",
      "------------------\n",
      "[2, 4, 6]\n",
      "[8, 10, 12]\n"
     ]
    }
   ],
   "source": [
    "#for 문 2\n",
    "'''\n",
    "for i in range(len(리스트형 변수))\n",
    "'''\n",
    "\n",
    "# 변수 a,b 모두 2배 답기\n",
    "a=[1,2,3]\n",
    "b=[4,5,6]\n",
    "\n",
    "#방법1\n",
    "a1=[]\n",
    "b1=[]\n",
    "for i in range(len(a)):\n",
    "    a1.append(a[i]*2)\n",
    "    b1.append(b[i]*2)\n",
    "print(a1)\n",
    "print(b1)\n",
    "\n",
    "print('------------------')\n",
    "\n",
    "#방법2\n",
    "a1=[]\n",
    "b1=[]\n",
    "for i,j in zip(a,b):\n",
    "    a1.append(i*2)\n",
    "    b1.append(j*2)\n",
    "print(a1)\n",
    "print(b1)"
   ]
  },
  {
   "cell_type": "code",
   "execution_count": 13,
   "id": "color-bowling",
   "metadata": {},
   "outputs": [
    {
     "name": "stdout",
     "output_type": "stream",
     "text": [
      "0 a\n",
      "1 b\n",
      "2 c\n"
     ]
    }
   ],
   "source": [
    "# for문 3 리스트의 index와 값 접근:enumerate()함수 사용\n",
    "a=['a','b','c']\n",
    "\n"
   ]
  },
  {
   "cell_type": "code",
   "execution_count": 20,
   "id": "d3e94f03",
   "metadata": {},
   "outputs": [
    {
     "name": "stdout",
     "output_type": "stream",
     "text": [
      "이름\n",
      "홍길동\n",
      "나이\n",
      "20\n",
      "성별\n",
      "남\n"
     ]
    }
   ],
   "source": [
    "#for문 4 딕셔너리 key와 value접근 : 변수.item()메서드 사용\n",
    "a={'이름': '홍길동',\n",
    "  '나이':20,\n",
    "  '성별':'남'}\n",
    "\n"
   ]
  },
  {
   "cell_type": "code",
   "execution_count": 2,
   "id": "80657c2a",
   "metadata": {},
   "outputs": [
    {
     "name": "stdout",
     "output_type": "stream",
     "text": [
      "['서울', '서울', '부산', '부산']\n"
     ]
    }
   ],
   "source": [
    "\n",
    "#예제) 데이터 정제\n",
    "a={'서울':['서울시','서울특별시'],\n",
    "  '부산':['부산시','부산광역시','부산직할시']}\n",
    "\n",
    "dt=['서울','서울시','부산광역시','부산직할시']\n",
    "\n",
    "for i,j in enumerate(dt):\n",
    "    for k,v in a.items():\n",
    "        if j in v:\n",
    "            dt[i]=k\n",
    "\n",
    "            \n",
    "print(dt)"
   ]
  },
  {
   "cell_type": "code",
   "execution_count": 5,
   "id": "bright-diameter",
   "metadata": {
    "scrolled": true
   },
   "outputs": [
    {
     "name": "stdout",
     "output_type": "stream",
     "text": [
      "[2, 4, 6, 8]\n",
      "[2, 4]\n"
     ]
    }
   ],
   "source": [
    "#for문 4: 리스트 내포 사용\n",
    "#[표현식 for 변수 in 시퀀스 자료]\n",
    "#[표현식 for 뱐수 in 시퀀스 자료 if 조건문]\n",
    "\n",
    "a=[1,2,3,4]\n",
    "\n",
    "# 값*2 답기\n",
    "\n",
    "\n",
    "# 2의 배수만 담기\n"
   ]
  },
  {
   "cell_type": "markdown",
   "id": "imperial-drilling",
   "metadata": {},
   "source": [
    "## while문"
   ]
  },
  {
   "cell_type": "code",
   "execution_count": null,
   "id": "veterinary-reserve",
   "metadata": {},
   "outputs": [],
   "source": [
    "# 조건이 참을 때 명령어를 실행하고 거짓이면 루프를 빠져나옴\n",
    "'''\n",
    "while 조건문:\n",
    "    명령어1\n",
    "    명령어2\n",
    "'''"
   ]
  },
  {
   "cell_type": "code",
   "execution_count": 22,
   "id": "caring-destination",
   "metadata": {},
   "outputs": [
    {
     "name": "stdout",
     "output_type": "stream",
     "text": [
      "55\n"
     ]
    }
   ],
   "source": [
    "#1에서 10까지 더하는 함수\n",
    "n=1\n",
    "s=0\n"
   ]
  },
  {
   "cell_type": "code",
   "execution_count": null,
   "id": "disciplinary-secret",
   "metadata": {},
   "outputs": [],
   "source": []
  },
  {
   "cell_type": "code",
   "execution_count": 23,
   "id": "burning-situation",
   "metadata": {},
   "outputs": [
    {
     "name": "stdout",
     "output_type": "stream",
     "text": [
      "55\n"
     ]
    }
   ],
   "source": [
    "#while문 무한루프 사용하기 (1~10까지 더하기)\n",
    "n=1\n",
    "s=0\n",
    "\n",
    "\n"
   ]
  },
  {
   "cell_type": "markdown",
   "id": "associate-brake",
   "metadata": {},
   "source": [
    "### 반복문의 흐름 제어하는  break와 continue문"
   ]
  },
  {
   "cell_type": "code",
   "execution_count": 24,
   "id": "handmade-castle",
   "metadata": {},
   "outputs": [
    {
     "name": "stdout",
     "output_type": "stream",
     "text": [
      "1\n",
      "3\n",
      "5\n",
      "7\n",
      "9\n"
     ]
    }
   ],
   "source": [
    "# continue로 코드 실행 건너띄기: 0~10까지 홀수만 출력하기 \n",
    "# 조건: 짝수이면 건너띄기\n",
    "\n"
   ]
  },
  {
   "cell_type": "code",
   "execution_count": 15,
   "id": "religious-imperial",
   "metadata": {},
   "outputs": [
    {
     "name": "stdout",
     "output_type": "stream",
     "text": [
      "* n=1\n",
      "* n=2\n",
      "* n=3\n",
      "* n=4\n",
      "* n=5\n",
      "* n=6\n",
      "* n=7\n",
      "* n=8\n",
      "* n=9\n",
      "* n=10\n"
     ]
    }
   ],
   "source": [
    "# break로 반복문 끝내기 : '*'를 출력하는 무한루프에서 n이 10이면 끝냄\n",
    "\n"
   ]
  },
  {
   "cell_type": "markdown",
   "id": "instant-savannah",
   "metadata": {},
   "source": [
    "## 실습"
   ]
  },
  {
   "cell_type": "code",
   "execution_count": 35,
   "id": "complex-carol",
   "metadata": {},
   "outputs": [
    {
     "name": "stdout",
     "output_type": "stream",
     "text": [
      " 1* 1= 1  1* 2= 2  1* 3= 3  1* 4= 4  1* 5= 5  1* 6= 6  1* 7= 7  1* 8= 8  1* 9= 9 \n",
      " 2* 1= 2  2* 2= 4  2* 3= 6  2* 4= 8  2* 5=10  2* 6=12  2* 7=14  2* 8=16  2* 9=18 \n",
      " 3* 1= 3  3* 2= 6  3* 3= 9  3* 4=12  3* 5=15  3* 6=18  3* 7=21  3* 8=24  3* 9=27 \n",
      " 4* 1= 4  4* 2= 8  4* 3=12  4* 4=16  4* 5=20  4* 6=24  4* 7=28  4* 8=32  4* 9=36 \n",
      " 5* 1= 5  5* 2=10  5* 3=15  5* 4=20  5* 5=25  5* 6=30  5* 7=35  5* 8=40  5* 9=45 \n",
      " 6* 1= 6  6* 2=12  6* 3=18  6* 4=24  6* 5=30  6* 6=36  6* 7=42  6* 8=48  6* 9=54 \n",
      " 7* 1= 7  7* 2=14  7* 3=21  7* 4=28  7* 5=35  7* 6=42  7* 7=49  7* 8=56  7* 9=63 \n",
      " 8* 1= 8  8* 2=16  8* 3=24  8* 4=32  8* 5=40  8* 6=48  8* 7=56  8* 8=64  8* 9=72 \n",
      " 9* 1= 9  9* 2=18  9* 3=27  9* 4=36  9* 5=45  9* 6=54  9* 7=63  9* 8=72  9* 9=81 \n"
     ]
    }
   ],
   "source": [
    "# 구구단 나오게 하기(1)\n"
   ]
  },
  {
   "cell_type": "code",
   "execution_count": 36,
   "id": "healthy-convention",
   "metadata": {},
   "outputs": [
    {
     "name": "stdout",
     "output_type": "stream",
     "text": [
      "-1단-\n",
      " 1* 1= 1\n",
      " 1* 2= 2\n",
      " 1* 3= 3\n",
      " 1* 4= 4\n",
      " 1* 5= 5\n",
      " 1* 6= 6\n",
      " 1* 7= 7\n",
      " 1* 8= 8\n",
      " 1* 9= 9\n",
      "\n",
      "-2단-\n",
      " 2* 1= 2\n",
      " 2* 2= 4\n",
      " 2* 3= 6\n",
      " 2* 4= 8\n",
      " 2* 5=10\n",
      " 2* 6=12\n",
      " 2* 7=14\n",
      " 2* 8=16\n",
      " 2* 9=18\n",
      "\n",
      "-3단-\n",
      " 3* 1= 3\n",
      " 3* 2= 6\n",
      " 3* 3= 9\n",
      " 3* 4=12\n",
      " 3* 5=15\n",
      " 3* 6=18\n",
      " 3* 7=21\n",
      " 3* 8=24\n",
      " 3* 9=27\n",
      "\n",
      "-4단-\n",
      " 4* 1= 4\n",
      " 4* 2= 8\n",
      " 4* 3=12\n",
      " 4* 4=16\n",
      " 4* 5=20\n",
      " 4* 6=24\n",
      " 4* 7=28\n",
      " 4* 8=32\n",
      " 4* 9=36\n",
      "\n",
      "-5단-\n",
      " 5* 1= 5\n",
      " 5* 2=10\n",
      " 5* 3=15\n",
      " 5* 4=20\n",
      " 5* 5=25\n",
      " 5* 6=30\n",
      " 5* 7=35\n",
      " 5* 8=40\n",
      " 5* 9=45\n",
      "\n",
      "-6단-\n",
      " 6* 1= 6\n",
      " 6* 2=12\n",
      " 6* 3=18\n",
      " 6* 4=24\n",
      " 6* 5=30\n",
      " 6* 6=36\n",
      " 6* 7=42\n",
      " 6* 8=48\n",
      " 6* 9=54\n",
      "\n",
      "-7단-\n",
      " 7* 1= 7\n",
      " 7* 2=14\n",
      " 7* 3=21\n",
      " 7* 4=28\n",
      " 7* 5=35\n",
      " 7* 6=42\n",
      " 7* 7=49\n",
      " 7* 8=56\n",
      " 7* 9=63\n",
      "\n",
      "-8단-\n",
      " 8* 1= 8\n",
      " 8* 2=16\n",
      " 8* 3=24\n",
      " 8* 4=32\n",
      " 8* 5=40\n",
      " 8* 6=48\n",
      " 8* 7=56\n",
      " 8* 8=64\n",
      " 8* 9=72\n",
      "\n",
      "-9단-\n",
      " 9* 1= 9\n",
      " 9* 2=18\n",
      " 9* 3=27\n",
      " 9* 4=36\n",
      " 9* 5=45\n",
      " 9* 6=54\n",
      " 9* 7=63\n",
      " 9* 8=72\n",
      " 9* 9=81\n",
      "\n"
     ]
    }
   ],
   "source": [
    "# 구구단 나오게 하기(2)\n"
   ]
  },
  {
   "cell_type": "markdown",
   "id": "available-distributor",
   "metadata": {},
   "source": [
    "<div class=\"alert alert-block\" style=\"border: 1px solid #FFB300;background-color:#F9FBE7;\">\n",
    "<font size=\"4em\" style=\"font-weight:bold;color:#3f8dbf;\">미션</font><br>\n",
    "1. 1에서 100까지 출력<br>\n",
    "2. 3의 배수는 Fizz 출력<br>\n",
    "3. 5의 배수는 Buzz 출력<br>\n",
    "4. 3과 5의 공배수는 Fizzbuzz 출력\n",
    "</div>"
   ]
  },
  {
   "cell_type": "code",
   "execution_count": 10,
   "id": "charming-manual",
   "metadata": {},
   "outputs": [
    {
     "name": "stdout",
     "output_type": "stream",
     "text": [
      "1\n",
      "2\n",
      "fizz 4\n",
      "buzz fizz 7\n",
      "8\n",
      "fizz buzz 11\n",
      "fizz 13\n",
      "14\n",
      "fizzbuzz 16\n",
      "17\n",
      "fizz 19\n",
      "buzz fizz 22\n",
      "23\n",
      "fizz buzz 26\n",
      "fizz 28\n",
      "29\n",
      "fizzbuzz 31\n",
      "32\n",
      "fizz 34\n",
      "buzz fizz 37\n",
      "38\n",
      "fizz buzz 41\n",
      "fizz 43\n",
      "44\n",
      "fizzbuzz 46\n",
      "47\n",
      "fizz 49\n",
      "buzz fizz 52\n",
      "53\n",
      "fizz buzz 56\n",
      "fizz 58\n",
      "59\n",
      "fizzbuzz 61\n",
      "62\n",
      "fizz 64\n",
      "buzz fizz 67\n",
      "68\n",
      "fizz buzz 71\n",
      "fizz 73\n",
      "74\n",
      "fizzbuzz 76\n",
      "77\n",
      "fizz 79\n",
      "buzz fizz 82\n",
      "83\n",
      "fizz buzz 86\n",
      "fizz 88\n",
      "89\n",
      "fizzbuzz 91\n",
      "92\n",
      "fizz 94\n",
      "buzz fizz 97\n",
      "98\n",
      "fizz buzz "
     ]
    }
   ],
   "source": [
    "for i in range(1, 101):\n",
    "    if (i%3==0) and (i%5==0):\n",
    "        print('fizzbuzz', end=' ')\n",
    "    elif i%3==0:\n",
    "        print('fizz', end=' ')\n",
    "    elif i%5==0:\n",
    "        print('buzz', end=' ')\n",
    "    else:\n",
    "        print(i)"
   ]
  },
  {
   "cell_type": "markdown",
   "id": "humanitarian-might",
   "metadata": {},
   "source": [
    "<div class=\"alert alert-block\" style=\"border: 1px solid #FFB300;background-color:#F9FBE7;\">\n",
    "<font size=\"4em\" style=\"font-weight:bold;color:#3f8dbf;\">미션: 자판기 만들기</font><br>\n",
    "1. 가격(price)가 500원인 음료수가 재고(stock)가5개가 있다. 재고가 없을 때까지 판매한다.<br>\n",
    "2. 삽입한 돈이 500원이면 음료수가 나오고 재고는 하나 줄어든다.<br>\n",
    "3. 삽입한 돈이 500원이상이면 음료수가 나오고 잔돈을 거슬러 주고 재고는 하나 줄어든다.<br>\n",
    "4. 삽입한 돈이 500원이하이면 금액이 부족하다는 메사지가 나온다.\n",
    "</div>"
   ]
  },
  {
   "cell_type": "code",
   "execution_count": 31,
   "id": "silver-implement",
   "metadata": {},
   "outputs": [
    {
     "name": "stdout",
     "output_type": "stream",
     "text": [
      "돈을 넣으시오20\n",
      "금액이 부족합니다.\n",
      "돈을 넣으시오600\n",
      "옛다 음료수\n",
      "거스름돈 100을 받으세요\n",
      "돈을 넣으시오500\n",
      "옛다 음료수\n",
      "돈을 넣으시오500\n",
      "옛다 음료수\n",
      "돈을 넣으시오500\n",
      "옛다 음료수\n",
      "돈을 넣으시오500\n",
      "옛다 음료수\n",
      "재고가 없습니다.\n"
     ]
    }
   ],
   "source": [
    "\n"
   ]
  },
  {
   "cell_type": "markdown",
   "id": "amazing-divide",
   "metadata": {},
   "source": [
    "<div class=\"alert alert-block\" style=\"border: 1px solid #FFB300;background-color:#F9FBE7;\">\n",
    "<font size=\"4em\" style=\"font-weight:bold;color:#3f8dbf;\">미션: 합격여부</font><br>\n",
    "1. 4개 과목이 모두 80보다 크거나 같으면 합격<br>\n",
    "2. a리스트의 값을 읽어 80보다 크거나 같은 것이 4개이면 합격처리<br>\n",
    "\n",
    "</div>"
   ]
  },
  {
   "cell_type": "code",
   "execution_count": 17,
   "id": "7ddab495",
   "metadata": {},
   "outputs": [
    {
     "name": "stdout",
     "output_type": "stream",
     "text": [
      "['합격', '불합격', '합격', '불합격']\n"
     ]
    }
   ],
   "source": [
    "# for문과 if문 연습\n",
    "a=[\n",
    "    [80,80,90,100,100],\n",
    "    [90,100,79,100,100],\n",
    "    [80,99,100,100,100],\n",
    "    [80,79,100,100,100]    \n",
    "]\n",
    "r=[]\n",
    "for i in a:\n",
    "    a_length=len(i)\n",
    "    n=0\n",
    "    for j in i:\n",
    "        if j>=80:\n",
    "            n=n+1\n",
    "    if n==a_length:\n",
    "        r.append('합격')\n",
    "    else:\n",
    "        r.append('불합격')\n",
    "\n",
    "print(r)"
   ]
  },
  {
   "cell_type": "code",
   "execution_count": 16,
   "id": "7681ddd2",
   "metadata": {},
   "outputs": [
    {
     "name": "stdout",
     "output_type": "stream",
     "text": [
      "['합격', '불합격', '합격', '불합격']\n"
     ]
    }
   ],
   "source": [
    "a=[\n",
    "    [80,80,90,100],\n",
    "    [90,100,79,100],\n",
    "    [80,99,100,100],\n",
    "    [80,79,100,100]    \n",
    "]\n",
    "r0=[]\n",
    "for i in a:\n",
    "    if i[0]>=80 and i[1]>=80 \\\n",
    "    and i[2]>=80 and i[3]>=80:\n",
    "        r0.append('합격')\n",
    "    else:\n",
    "        r0.append('불합격')\n",
    "print(r0)"
   ]
  },
  {
   "cell_type": "code",
   "execution_count": 29,
   "id": "recent-fellow",
   "metadata": {},
   "outputs": [
    {
     "name": "stdout",
     "output_type": "stream",
     "text": [
      "['합격', '불합격', '합격', '불합격']\n"
     ]
    }
   ],
   "source": [
    "# for문과 if문 연습\n",
    "a=[\n",
    "    [80,80,90,100],\n",
    "    [90,100,79,100],\n",
    "    [80,99,100,100],\n",
    "    [80,79,100,100]    \n",
    "]\n",
    "\n"
   ]
  },
  {
   "cell_type": "markdown",
   "id": "addressed-utilization",
   "metadata": {},
   "source": [
    "<div class=\"alert alert-block\" style=\"border: 1px solid #FFB300;background-color:#F9FBE7;\">\n",
    "<font size=\"4em\" style=\"font-weight:bold;color:#3f8dbf;\">미션: 최대값, 최소값 구하기</font><br>\n",
    "\n",
    "\n",
    "</div>"
   ]
  },
  {
   "cell_type": "code",
   "execution_count": null,
   "id": "elegant-champagne",
   "metadata": {},
   "outputs": [],
   "source": [
    "a=[4,3,8,2,6,1,200]\n"
   ]
  }
 ],
 "metadata": {
  "kernelspec": {
   "display_name": "Python 3 (ipykernel)",
   "language": "python",
   "name": "python3"
  },
  "language_info": {
   "codemirror_mode": {
    "name": "ipython",
    "version": 3
   },
   "file_extension": ".py",
   "mimetype": "text/x-python",
   "name": "python",
   "nbconvert_exporter": "python",
   "pygments_lexer": "ipython3",
   "version": "3.10.4"
  }
 },
 "nbformat": 4,
 "nbformat_minor": 5
}
