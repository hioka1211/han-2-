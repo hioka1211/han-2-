{
 "cells": [
  {
   "cell_type": "code",
   "execution_count": null,
   "id": "1caed74a",
   "metadata": {},
   "outputs": [],
   "source": [
    "for문\n",
    "----------기본형태-----------\n",
    "for 변수 in 반복가능한 객체:\n",
    "        명령어1\n",
    "        명령어1\n",
    "명령어3\n",
    "\n",
    "*반복가능한 객체(이터러블):문자열, 리스트, 튜플, 딕셔너리, 집합, range\n",
    "---------------------------------------------------------------\n",
    "\n",
    "----------------리스트--------------\n",
    "for 변수 in range(len(이터러블)):\n",
    "    명령어\n",
    "    \n",
    "-------------딕셔너리------------\n",
    "for 변수1, 변수2 in 딕셔너리.items():\n",
    "    \n",
    "for key,v in a.items():\n",
    "    print('key ---->',key, 'value--->',v)\n",
    "--------------------------------------\n",
    "\n",
    "---------------zip함수-----------------\n",
    "1.[표현식 for문] [i for i in range(1,11) if i%2==0]\n",
    "2.[표현식 for문 if문] [i for i in range(1,11) if i%2 !=0]\n",
    "3.[참표현식 if 조건 else 거짓표현식 for문] ['짝수' if i%2==0 else '홀수' for i in range(1,11)]\n",
    "4.[표현식 for문 for문]"
   ]
  },
  {
   "cell_type": "code",
   "execution_count": 12,
   "id": "738a0816",
   "metadata": {},
   "outputs": [
    {
     "name": "stdout",
     "output_type": "stream",
     "text": [
      "0 안녕하세요\n",
      "1 안녕하세요\n",
      "2 안녕하세요\n",
      "\n"
     ]
    }
   ],
   "source": [
    "for i in range(3):\n",
    "    print(i,'안녕하세요')\n",
    "print()\n",
    "#print(f'{i+1}번하고 빠져나왔다')"
   ]
  },
  {
   "cell_type": "code",
   "execution_count": 16,
   "id": "d2e857ae",
   "metadata": {},
   "outputs": [
    {
     "name": "stdout",
     "output_type": "stream",
     "text": [
      "a b c "
     ]
    }
   ],
   "source": [
    "a=['a','b','c']\n",
    "\n",
    "for i in a:\n",
    "    print(i, end=' ')\n",
    "    \n"
   ]
  },
  {
   "cell_type": "code",
   "execution_count": 18,
   "id": "d0e4635a",
   "metadata": {},
   "outputs": [
    {
     "name": "stdout",
     "output_type": "stream",
     "text": [
      "0\n",
      "1\n",
      "2\n",
      "3\n"
     ]
    }
   ],
   "source": [
    "a=[1,2,3,4]\n",
    "\n",
    "for i in range(len(a)):\n",
    "     print(i)"
   ]
  },
  {
   "cell_type": "code",
   "execution_count": 23,
   "id": "bdf31bee",
   "metadata": {},
   "outputs": [
    {
     "name": "stdout",
     "output_type": "stream",
     "text": [
      "aaa\n",
      "bbb\n",
      "ccc\n"
     ]
    }
   ],
   "source": [
    "a=['aaa','bbb','ccc']\n",
    "for i in a:\n",
    "    print(i)"
   ]
  },
  {
   "cell_type": "code",
   "execution_count": 27,
   "id": "889bccee",
   "metadata": {},
   "outputs": [
    {
     "name": "stdout",
     "output_type": "stream",
     "text": [
      "0 a= aaa b= 100\n",
      "1 a= bbb b= 200\n",
      "2 a= ccc b= 300\n"
     ]
    }
   ],
   "source": [
    "a=['aaa','bbb','ccc']\n",
    "b=[100,200,300]\n",
    "for i in range(len(a)):\n",
    "    print(i,'a=', a[i], 'b=', b[i])"
   ]
  },
  {
   "cell_type": "code",
   "execution_count": 22,
   "id": "553d1674",
   "metadata": {},
   "outputs": [
    {
     "name": "stdout",
     "output_type": "stream",
     "text": [
      "0 aaa\n",
      "1 bbb\n",
      "2 ccc\n"
     ]
    }
   ],
   "source": [
    "a=['aaa','bbb','ccc']\n",
    "\n",
    "for i in range(len(a)):\n",
    "    print(i,a[i])"
   ]
  },
  {
   "cell_type": "code",
   "execution_count": 20,
   "id": "aec80a41",
   "metadata": {},
   "outputs": [
    {
     "data": {
      "text/plain": [
       "range(0, 3)"
      ]
     },
     "execution_count": 20,
     "metadata": {},
     "output_type": "execute_result"
    }
   ],
   "source": [
    "range(len(a))"
   ]
  },
  {
   "cell_type": "code",
   "execution_count": null,
   "id": "5ec50b1a",
   "metadata": {},
   "outputs": [],
   "source": [
    "a=['aaa','bbb','ccc']"
   ]
  },
  {
   "cell_type": "code",
   "execution_count": 1,
   "id": "8cf5362e",
   "metadata": {},
   "outputs": [
    {
     "name": "stdout",
     "output_type": "stream",
     "text": [
      "3 1349522358576\n"
     ]
    }
   ],
   "source": [
    "a=3\n",
    "print(a, id(a))"
   ]
  },
  {
   "cell_type": "code",
   "execution_count": 2,
   "id": "d01fba88",
   "metadata": {},
   "outputs": [
    {
     "name": "stdout",
     "output_type": "stream",
     "text": [
      "5 1349522358640\n"
     ]
    }
   ],
   "source": [
    "a=5\n",
    "print(a, id(a))"
   ]
  },
  {
   "cell_type": "code",
   "execution_count": 9,
   "id": "8f2063bd",
   "metadata": {},
   "outputs": [
    {
     "name": "stdout",
     "output_type": "stream",
     "text": [
      "[1, 2, 3] 1349603648064\n",
      "[100, 2, 3] 1349603648064\n",
      "[100, 2, 3] 1349603648064\n",
      "[10, 2, 3] [10, 2, 3]\n",
      "[10, 2, 3] 1349603647232 [10, 2, 3] 1349603648064\n"
     ]
    }
   ],
   "source": [
    "b=[1,2,3]\n",
    "print(b, id(b))\n",
    "b[0]=100\n",
    "print(b, id(b))\n",
    "c=b\n",
    "print(c, id(c))\n",
    "c[0]=10\n",
    "print(c, b)\n",
    "d=b.copy()\n",
    "print(d,id(d), b,id(b))"
   ]
  },
  {
   "cell_type": "code",
   "execution_count": 10,
   "id": "cc712762",
   "metadata": {},
   "outputs": [
    {
     "name": "stdout",
     "output_type": "stream",
     "text": [
      "[10, 2, 3]\n"
     ]
    }
   ],
   "source": [
    "print(d)"
   ]
  },
  {
   "cell_type": "code",
   "execution_count": 11,
   "id": "c418b512",
   "metadata": {},
   "outputs": [
    {
     "name": "stdout",
     "output_type": "stream",
     "text": [
      "[10, 2, 3]\n"
     ]
    }
   ],
   "source": [
    "print(b)"
   ]
  },
  {
   "cell_type": "code",
   "execution_count": 13,
   "id": "b3b5716c",
   "metadata": {},
   "outputs": [
    {
     "name": "stdout",
     "output_type": "stream",
     "text": [
      "[1000, 2, 3] [10, 2, 3]\n"
     ]
    }
   ],
   "source": [
    "d[0]=1000\n",
    "print(d,b)"
   ]
  },
  {
   "cell_type": "raw",
   "id": "1cb522c3",
   "metadata": {},
   "source": [
    "copy를 해서 d와 b의 id값이 다름."
   ]
  },
  {
   "cell_type": "code",
   "execution_count": null,
   "id": "18b20332",
   "metadata": {},
   "outputs": [],
   "source": []
  },
  {
   "cell_type": "code",
   "execution_count": null,
   "id": "b24cd8c0",
   "metadata": {},
   "outputs": [],
   "source": []
  },
  {
   "cell_type": "code",
   "execution_count": 15,
   "id": "b6ebd231",
   "metadata": {},
   "outputs": [
    {
     "name": "stdout",
     "output_type": "stream",
     "text": [
      "john\n",
      "15\n",
      "100\n"
     ]
    }
   ],
   "source": [
    "a={\n",
    "    'name':'john',\n",
    "    'age':15,\n",
    "    'point':100\n",
    "}\n",
    "for i in a:\n",
    "    print(a[i])"
   ]
  },
  {
   "cell_type": "code",
   "execution_count": 20,
   "id": "54b55a07",
   "metadata": {},
   "outputs": [
    {
     "name": "stdout",
     "output_type": "stream",
     "text": [
      "1 aaa\n",
      "2 bbb\n",
      "3 ccc\n",
      "4 dddd\n"
     ]
    }
   ],
   "source": [
    "ls=['aaa','bbb','ccc','dddd']\n",
    "n=0\n",
    "for i in ls:\n",
    "    n=n+1\n",
    "    print(n,i)\n",
    "    "
   ]
  },
  {
   "cell_type": "code",
   "execution_count": 33,
   "id": "6560f9b8",
   "metadata": {},
   "outputs": [
    {
     "name": "stdout",
     "output_type": "stream",
     "text": [
      "idx= idx i= i\n",
      "idx= idx i= i\n",
      "idx= idx i= i\n",
      "idx= idx i= i\n"
     ]
    }
   ],
   "source": [
    "ls=['aaa','bbb','ccc','dddd']\n",
    "\n",
    "for idx, i in enumerate(ls):\n",
    "    print('idx=', 'idx', 'i=', 'i')"
   ]
  },
  {
   "cell_type": "code",
   "execution_count": 34,
   "id": "b1652f27",
   "metadata": {},
   "outputs": [
    {
     "name": "stdout",
     "output_type": "stream",
     "text": [
      "key ----> name value---> john\n",
      "key ----> age value---> 15\n",
      "key ----> point value---> 100\n"
     ]
    }
   ],
   "source": [
    "a={\n",
    "    'name':'john',\n",
    "    'age':15,\n",
    "    'point':100\n",
    "}\n",
    "for key,v in a.items():\n",
    "    print('key ---->',key, 'value--->',v)"
   ]
  },
  {
   "cell_type": "code",
   "execution_count": 37,
   "id": "1951bf23",
   "metadata": {},
   "outputs": [
    {
     "name": "stdout",
     "output_type": "stream",
     "text": [
      "[('aaa', 100), ('bbb', 200), ('ccc', 300)]\n"
     ]
    }
   ],
   "source": [
    "a=['aaa','bbb','ccc']\n",
    "b=[100,200,300]\n",
    "k=zip(a,b)\n",
    "print(list(k))"
   ]
  },
  {
   "cell_type": "code",
   "execution_count": 39,
   "id": "89cff642",
   "metadata": {},
   "outputs": [
    {
     "name": "stdout",
     "output_type": "stream",
     "text": [
      "i--> aaa j--> 100\n",
      "i--> bbb j--> 200\n",
      "i--> ccc j--> 300\n"
     ]
    }
   ],
   "source": [
    "a=['aaa','bbb','ccc']\n",
    "b=[100,200,300]\n",
    "for i,j in zip(a,b):\n",
    "    print('i-->',i, 'j-->',j)"
   ]
  },
  {
   "cell_type": "code",
   "execution_count": null,
   "id": "63ed1439",
   "metadata": {},
   "outputs": [],
   "source": []
  }
 ],
 "metadata": {
  "kernelspec": {
   "display_name": "Python 3 (ipykernel)",
   "language": "python",
   "name": "python3"
  },
  "language_info": {
   "codemirror_mode": {
    "name": "ipython",
    "version": 3
   },
   "file_extension": ".py",
   "mimetype": "text/x-python",
   "name": "python",
   "nbconvert_exporter": "python",
   "pygments_lexer": "ipython3",
   "version": "3.10.4"
  }
 },
 "nbformat": 4,
 "nbformat_minor": 5
}
