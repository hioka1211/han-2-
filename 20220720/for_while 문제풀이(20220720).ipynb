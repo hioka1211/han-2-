{
 "cells": [
  {
   "cell_type": "code",
   "execution_count": 7,
   "id": "33dd82d5",
   "metadata": {},
   "outputs": [
    {
     "name": "stdout",
     "output_type": "stream",
     "text": [
      "[2, 4, 6, 8, 10]\n"
     ]
    }
   ],
   "source": [
    "ls=[1,2,3,4,5,]\n",
    "r_ls=[]\n",
    "for i in ls:\n",
    "    r_ls.append(i*2)\n",
    "    \n",
    "print(r_ls)"
   ]
  },
  {
   "cell_type": "code",
   "execution_count": 18,
   "id": "e2a99c56",
   "metadata": {},
   "outputs": [
    {
     "name": "stdout",
     "output_type": "stream",
     "text": [
      "[2, 4, 6, 8, 10]\n",
      "[20, 40, 60, 80, 100]\n"
     ]
    }
   ],
   "source": [
    "ls_1=[1,2,3,4,5]\n",
    "ls_2=[10,20,30,40,50]\n",
    "r_ls_1=[]\n",
    "r_ls_2=[]\n",
    "for i in range(len(ls_1)):\n",
    "    r_ls_1.append(ls_1[i]*2)\n",
    "    r_ls_2.append(ls_2[i]*2)\n",
    "print(r_ls_1)\n",
    "print(r_ls_2)"
   ]
  },
  {
   "cell_type": "code",
   "execution_count": 22,
   "id": "29cf864c",
   "metadata": {},
   "outputs": [
    {
     "name": "stdout",
     "output_type": "stream",
     "text": [
      "[2, 4, 6, 8, 10]\n",
      "[20, 40, 60, 80, 100]\n"
     ]
    }
   ],
   "source": [
    "ls_1=[1,2,3,4,5]\n",
    "ls_2=[10,20,30,40,50]\n",
    "r_ls_1=[]\n",
    "r_ls_2=[]\n",
    "for i,j in zip(ls_1,ls_2):\n",
    "    r_ls_1.append(i*2)\n",
    "    r_ls_2.append(j*2)\n",
    "print(r_ls_1)\n",
    "print(r_ls_2)"
   ]
  },
  {
   "cell_type": "code",
   "execution_count": 31,
   "id": "2cf44e50",
   "metadata": {},
   "outputs": [
    {
     "name": "stdout",
     "output_type": "stream",
     "text": [
      "0 서울\n",
      "1 서울시\n",
      "2 부산광역시\n",
      "3 부산직할시\n",
      "['서울', '서울', '부산', '부산']\n"
     ]
    }
   ],
   "source": [
    "#예제) 데이터 정제\n",
    "a={'서울':['서울','서울시','서울특별시'],\n",
    "  '부산':['부산','부산시','부산광역시','부산직할시']}\n",
    "\n",
    "dt=['서울','서울시','부산광역시','부산직할시']\n",
    "\n",
    "for idx, i in enumerate(dt):\n",
    "    print(idx,i)\n",
    "    for key,v in a.items():\n",
    "       # print(key,v)\n",
    "        if i in v:\n",
    "            dt[idx]=key\n",
    "print(dt)"
   ]
  },
  {
   "cell_type": "code",
   "execution_count": null,
   "id": "c4ece581",
   "metadata": {},
   "outputs": [],
   "source": []
  },
  {
   "cell_type": "code",
   "execution_count": null,
   "id": "20f5d91d",
   "metadata": {},
   "outputs": [],
   "source": [
    "#for문 4: 리스트 내포 사용\n",
    "#[표현식 for 변수 in 시퀀스 자료]\n",
    "#[표현식 for 뱐수 in 시퀀스 자료 if 조건문]\n",
    "\n",
    "a=[1,2,3,4]\n",
    "\n",
    "# 값*2 답기\n",
    "\n",
    "\n",
    "# 2의 배수만 담기\n",
    "\n",
    "명령어 한줄일 때만 가능"
   ]
  },
  {
   "cell_type": "code",
   "execution_count": 34,
   "id": "9c348ab5",
   "metadata": {},
   "outputs": [
    {
     "name": "stdout",
     "output_type": "stream",
     "text": [
      "[3, 6, 9, 12]\n"
     ]
    }
   ],
   "source": [
    "a=[1,2,3,4]\n",
    "r_a=[]\n",
    "for i in a:\n",
    "    r_a.append(i*3)\n",
    "print(r_a)"
   ]
  },
  {
   "cell_type": "code",
   "execution_count": 36,
   "id": "f68bbf5a",
   "metadata": {},
   "outputs": [
    {
     "name": "stdout",
     "output_type": "stream",
     "text": [
      "[3, 6, 9, 12]\n"
     ]
    }
   ],
   "source": [
    "a=[1,2,3,4]\n",
    "r_a=[i*3 for i in a]\n",
    "print(r_a)"
   ]
  },
  {
   "cell_type": "code",
   "execution_count": null,
   "id": "7b6fff99",
   "metadata": {},
   "outputs": [],
   "source": []
  },
  {
   "cell_type": "code",
   "execution_count": 41,
   "id": "71ccfd53",
   "metadata": {},
   "outputs": [
    {
     "name": "stdout",
     "output_type": "stream",
     "text": [
      "1 -----> 홀수\n",
      "2 -----> 짝수\n",
      "3 -----> 홀수\n",
      "4 -----> 짝수\n",
      "5 -----> 홀수\n",
      "6 -----> 짝수\n",
      "7 -----> 홀수\n",
      "8 -----> 짝수\n",
      "9 -----> 홀수\n",
      "10 -----> 짝수\n"
     ]
    }
   ],
   "source": [
    "for i in range(1,11):\n",
    "    if i%2==0:\n",
    "        print(i, '----->','짝수')\n",
    "    else:\n",
    "        print(i, '----->', '홀수')"
   ]
  },
  {
   "cell_type": "code",
   "execution_count": 43,
   "id": "d980b17c",
   "metadata": {},
   "outputs": [
    {
     "name": "stdout",
     "output_type": "stream",
     "text": [
      "[[1, '홀수'], [2, '짝수'], [3, '홀수'], [4, '짝수'], [5, '홀수'], [6, '짝수'], [7, '홀수'], [8, '짝수'], [9, '홀수'], [10, '짝수']]\n"
     ]
    }
   ],
   "source": [
    "result=[]\n",
    "for i in range(1,11):\n",
    "    if i%2==0:\n",
    "        result.append([i,'짝수'])\n",
    "    else:\n",
    "        result.append([i,'홀수'])\n",
    "print(result)"
   ]
  },
  {
   "cell_type": "code",
   "execution_count": 45,
   "id": "cc497a61",
   "metadata": {},
   "outputs": [
    {
     "name": "stdout",
     "output_type": "stream",
     "text": [
      "[2, 4, 6, 8, 10]\n"
     ]
    }
   ],
   "source": [
    "result=[]\n",
    "for i in range(1,11):\n",
    "    if i%2==0:\n",
    "        result.append(i)\n",
    "print(result)"
   ]
  },
  {
   "cell_type": "code",
   "execution_count": 47,
   "id": "bd45ee01",
   "metadata": {},
   "outputs": [
    {
     "data": {
      "text/plain": [
       "[2, 4, 6, 8, 10]"
      ]
     },
     "execution_count": 47,
     "metadata": {},
     "output_type": "execute_result"
    }
   ],
   "source": [
    "[i for i in range(1,11) if i%2==0]"
   ]
  },
  {
   "cell_type": "code",
   "execution_count": 48,
   "id": "4b6a149b",
   "metadata": {},
   "outputs": [
    {
     "data": {
      "text/plain": [
       "[1, 3, 5, 7, 9]"
      ]
     },
     "execution_count": 48,
     "metadata": {},
     "output_type": "execute_result"
    }
   ],
   "source": [
    "[i for i in range(1,11) if i%2 !=0]"
   ]
  },
  {
   "cell_type": "code",
   "execution_count": 50,
   "id": "79219215",
   "metadata": {},
   "outputs": [
    {
     "data": {
      "text/plain": [
       "['홀수', '짝수', '홀수', '짝수', '홀수', '짝수', '홀수', '짝수', '홀수', '짝수']"
      ]
     },
     "execution_count": 50,
     "metadata": {},
     "output_type": "execute_result"
    }
   ],
   "source": [
    "['짝수' if i%2==0 else '홀수' for i in range(1,11)]"
   ]
  },
  {
   "cell_type": "code",
   "execution_count": 53,
   "id": "90d334ef",
   "metadata": {},
   "outputs": [
    {
     "data": {
      "text/plain": [
       "[(1, '홀수'),\n",
       " (2, '짝수'),\n",
       " (3, '홀수'),\n",
       " (4, '짝수'),\n",
       " (5, '홀수'),\n",
       " (6, '짝수'),\n",
       " (7, '홀수'),\n",
       " (8, '짝수'),\n",
       " (9, '홀수'),\n",
       " (10, '짝수')]"
      ]
     },
     "execution_count": 53,
     "metadata": {},
     "output_type": "execute_result"
    }
   ],
   "source": [
    "[(i,'짝수') if i%2==0 else (i,'홀수') for i in range(1,11)]"
   ]
  },
  {
   "cell_type": "code",
   "execution_count": 55,
   "id": "0d2baa46",
   "metadata": {},
   "outputs": [
    {
     "name": "stdout",
     "output_type": "stream",
     "text": [
      "1\n",
      "3\n",
      "5\n",
      "7\n",
      "9\n"
     ]
    }
   ],
   "source": [
    "#break, continue문\n",
    "for i in range(11):\n",
    "    if i%2==0:\n",
    "        continue\n",
    "    print(i)"
   ]
  },
  {
   "cell_type": "markdown",
   "id": "dbfcbfe4",
   "metadata": {},
   "source": []
  },
  {
   "cell_type": "code",
   "execution_count": 81,
   "id": "d9061be9",
   "metadata": {},
   "outputs": [
    {
     "name": "stdout",
     "output_type": "stream",
     "text": [
      " 2* 1= 2  2* 2= 4  2* 3= 6  2* 4= 8  2* 5=10  2* 6=12  2* 7=14  2* 8=16  2* 9=18 \n",
      " 3* 1= 3  3* 2= 6  3* 3= 9  3* 4=12  3* 5=15  3* 6=18  3* 7=21  3* 8=24  3* 9=27 \n",
      " 4* 1= 4  4* 2= 8  4* 3=12  4* 4=16  4* 5=20  4* 6=24  4* 7=28  4* 8=32  4* 9=36 \n",
      " 5* 1= 5  5* 2=10  5* 3=15  5* 4=20  5* 5=25  5* 6=30  5* 7=35  5* 8=40  5* 9=45 \n",
      " 6* 1= 6  6* 2=12  6* 3=18  6* 4=24  6* 5=30  6* 6=36  6* 7=42  6* 8=48  6* 9=54 \n",
      " 7* 1= 7  7* 2=14  7* 3=21  7* 4=28  7* 5=35  7* 6=42  7* 7=49  7* 8=56  7* 9=63 \n",
      " 8* 1= 8  8* 2=16  8* 3=24  8* 4=32  8* 5=40  8* 6=48  8* 7=56  8* 8=64  8* 9=72 \n",
      " 9* 1= 9  9* 2=18  9* 3=27  9* 4=36  9* 5=45  9* 6=54  9* 7=63  9* 8=72  9* 9=81 \n"
     ]
    }
   ],
   "source": [
    "n=0\n",
    "for i in range(2,10):\n",
    "    for j in range(1,10):\n",
    "        print(f'{i:2}*{j:2}={i*j:2}', end=' ')\n",
    "    print()"
   ]
  },
  {
   "cell_type": "code",
   "execution_count": 84,
   "id": "3b87358d",
   "metadata": {},
   "outputs": [
    {
     "data": {
      "text/plain": [
       "[2,\n",
       " 4,\n",
       " 6,\n",
       " 8,\n",
       " 10,\n",
       " 12,\n",
       " 14,\n",
       " 16,\n",
       " 18,\n",
       " 20,\n",
       " 3,\n",
       " 6,\n",
       " 9,\n",
       " 12,\n",
       " 15,\n",
       " 18,\n",
       " 21,\n",
       " 24,\n",
       " 27,\n",
       " 30,\n",
       " 4,\n",
       " 8,\n",
       " 12,\n",
       " 16,\n",
       " 20,\n",
       " 24,\n",
       " 28,\n",
       " 32,\n",
       " 36,\n",
       " 40,\n",
       " 5,\n",
       " 10,\n",
       " 15,\n",
       " 20,\n",
       " 25,\n",
       " 30,\n",
       " 35,\n",
       " 40,\n",
       " 45,\n",
       " 50,\n",
       " 6,\n",
       " 12,\n",
       " 18,\n",
       " 24,\n",
       " 30,\n",
       " 36,\n",
       " 42,\n",
       " 48,\n",
       " 54,\n",
       " 60,\n",
       " 7,\n",
       " 14,\n",
       " 21,\n",
       " 28,\n",
       " 35,\n",
       " 42,\n",
       " 49,\n",
       " 56,\n",
       " 63,\n",
       " 70,\n",
       " 8,\n",
       " 16,\n",
       " 24,\n",
       " 32,\n",
       " 40,\n",
       " 48,\n",
       " 56,\n",
       " 64,\n",
       " 72,\n",
       " 80,\n",
       " 9,\n",
       " 18,\n",
       " 27,\n",
       " 36,\n",
       " 45,\n",
       " 54,\n",
       " 63,\n",
       " 72,\n",
       " 81,\n",
       " 90]"
      ]
     },
     "execution_count": 84,
     "metadata": {},
     "output_type": "execute_result"
    }
   ],
   "source": [
    "[i*j for i in range(2,10) for j in range(1,11)]"
   ]
  },
  {
   "cell_type": "code",
   "execution_count": 62,
   "id": "d46b60a8",
   "metadata": {},
   "outputs": [
    {
     "name": "stdout",
     "output_type": "stream",
     "text": [
      "2*1=2\n",
      "2*2=4\n",
      "2*3=6\n",
      "2*4=8\n",
      "2*5=10\n",
      "2*6=12\n",
      "2*7=14\n",
      "2*8=16\n",
      "2*9=18\n"
     ]
    }
   ],
   "source": [
    "a=2\n",
    "for i in range(1,10):\n",
    "    print(f'{a}*{i}={a*i}')"
   ]
  },
  {
   "cell_type": "code",
   "execution_count": null,
   "id": "6a5abd7f",
   "metadata": {},
   "outputs": [],
   "source": []
  },
  {
   "cell_type": "code",
   "execution_count": null,
   "id": "c490db7b",
   "metadata": {},
   "outputs": [],
   "source": []
  }
 ],
 "metadata": {
  "kernelspec": {
   "display_name": "Python 3 (ipykernel)",
   "language": "python",
   "name": "python3"
  },
  "language_info": {
   "codemirror_mode": {
    "name": "ipython",
    "version": 3
   },
   "file_extension": ".py",
   "mimetype": "text/x-python",
   "name": "python",
   "nbconvert_exporter": "python",
   "pygments_lexer": "ipython3",
   "version": "3.10.4"
  }
 },
 "nbformat": 4,
 "nbformat_minor": 5
}
