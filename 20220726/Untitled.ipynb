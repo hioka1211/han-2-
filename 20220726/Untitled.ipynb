{
 "cells": [
  {
   "cell_type": "code",
   "execution_count": 9,
   "id": "32960f8d",
   "metadata": {},
   "outputs": [],
   "source": [
    "def kkk(v1,v2=100):\n",
    "    합=v1+v2\n",
    "    곱=v1*v2\n",
    "    차=v1-v2\n",
    "    나누기=v1/v2\n",
    "    return 합,곱,차,나누기"
   ]
  },
  {
   "cell_type": "code",
   "execution_count": null,
   "id": "daeebde9",
   "metadata": {},
   "outputs": [],
   "source": [
    "a,b,c,d=kkk(6,3)"
   ]
  },
  {
   "cell_type": "code",
   "execution_count": 6,
   "id": "bc33ee31",
   "metadata": {},
   "outputs": [
    {
     "name": "stdout",
     "output_type": "stream",
     "text": [
      "9\n",
      "18\n",
      "3\n",
      "2.0\n"
     ]
    }
   ],
   "source": [
    "print(a)\n",
    "print(b)\n",
    "print(c)\n",
    "print(d)"
   ]
  },
  {
   "cell_type": "code",
   "execution_count": 7,
   "id": "b79c6b68",
   "metadata": {},
   "outputs": [
    {
     "data": {
      "text/plain": [
       "(8, 12, 4, 3.0)"
      ]
     },
     "execution_count": 7,
     "metadata": {},
     "output_type": "execute_result"
    }
   ],
   "source": [
    "kkk(6,2)"
   ]
  },
  {
   "cell_type": "code",
   "execution_count": 10,
   "id": "fc6a14e9",
   "metadata": {},
   "outputs": [
    {
     "data": {
      "text/plain": [
       "(106, 600, -94, 0.06)"
      ]
     },
     "execution_count": 10,
     "metadata": {},
     "output_type": "execute_result"
    }
   ],
   "source": [
    "kkk(6)"
   ]
  },
  {
   "cell_type": "code",
   "execution_count": 13,
   "id": "507688ca",
   "metadata": {},
   "outputs": [
    {
     "name": "stdout",
     "output_type": "stream",
     "text": [
      "안녕\n",
      "hi\n"
     ]
    }
   ],
   "source": [
    "def hi():\n",
    "    print('안녕')\n",
    "    print('hi')\n",
    "    \n",
    "hi()"
   ]
  },
  {
   "cell_type": "code",
   "execution_count": 17,
   "id": "d0fc88a0",
   "metadata": {},
   "outputs": [
    {
     "name": "stdout",
     "output_type": "stream",
     "text": [
      "8\n"
     ]
    }
   ],
   "source": [
    "def add(a,b):\n",
    "    print(a+b)\n",
    "    \n",
    "add(5,3)"
   ]
  },
  {
   "cell_type": "code",
   "execution_count": 27,
   "id": "4ce5b686",
   "metadata": {},
   "outputs": [],
   "source": [
    "def add(a,b):\n",
    "    if b==0:\n",
    "        print('b에 0을 입력하셨습니다. 안 됩니다')\n",
    "        return\n",
    "    return a/b"
   ]
  },
  {
   "cell_type": "code",
   "execution_count": 30,
   "id": "87abe2d0",
   "metadata": {},
   "outputs": [
    {
     "name": "stdout",
     "output_type": "stream",
     "text": [
      "b에 0을 입력하셨습니다. 안 됩니다\n",
      "9\n"
     ]
    }
   ],
   "source": [
    "add(5,0)\n",
    "print(a)"
   ]
  },
  {
   "cell_type": "code",
   "execution_count": null,
   "id": "631d0c80",
   "metadata": {},
   "outputs": [],
   "source": []
  }
 ],
 "metadata": {
  "kernelspec": {
   "display_name": "Python 3 (ipykernel)",
   "language": "python",
   "name": "python3"
  },
  "language_info": {
   "codemirror_mode": {
    "name": "ipython",
    "version": 3
   },
   "file_extension": ".py",
   "mimetype": "text/x-python",
   "name": "python",
   "nbconvert_exporter": "python",
   "pygments_lexer": "ipython3",
   "version": "3.10.4"
  }
 },
 "nbformat": 4,
 "nbformat_minor": 5
}
