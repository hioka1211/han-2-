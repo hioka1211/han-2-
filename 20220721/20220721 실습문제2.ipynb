{
 "cells": [
  {
   "cell_type": "code",
   "execution_count": 7,
   "id": "69a84735",
   "metadata": {},
   "outputs": [],
   "source": [
    "from PIL import Image\n",
    "from glob import glob\n",
    "\n",
    "files=glob('./images/*.jpg')\n",
    "\n",
    "\n",
    "for file in files:\n",
    "    img = Image.open(file)\n",
    "    new_f=file.replace('./images\\\\', './images/res/')\n",
    "\n",
    "    resize_img = img.resize((800, 800))\n",
    "    resize_img.save(new_f)"
   ]
  },
  {
   "cell_type": "code",
   "execution_count": null,
   "id": "50ea2e86",
   "metadata": {},
   "outputs": [],
   "source": []
  }
 ],
 "metadata": {
  "kernelspec": {
   "display_name": "Python 3 (ipykernel)",
   "language": "python",
   "name": "python3"
  },
  "language_info": {
   "codemirror_mode": {
    "name": "ipython",
    "version": 3
   },
   "file_extension": ".py",
   "mimetype": "text/x-python",
   "name": "python",
   "nbconvert_exporter": "python",
   "pygments_lexer": "ipython3",
   "version": "3.10.4"
  }
 },
 "nbformat": 4,
 "nbformat_minor": 5
}
